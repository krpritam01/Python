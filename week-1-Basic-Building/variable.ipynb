{
 "cells": [
  {
   "cell_type": "code",
   "execution_count": null,
   "id": "aad4a895-19a0-41b3-ac1c-9306b53494db",
   "metadata": {},
   "outputs": [],
   "source": [
    "#Variable"
   ]
  },
  {
   "cell_type": "code",
   "execution_count": null,
   "id": "9ae1e829-8d23-4dff-8cd6-f16494de3b3e",
   "metadata": {},
   "outputs": [],
   "source": [
    "a = 1"
   ]
  },
  {
   "cell_type": "code",
   "execution_count": 3,
   "id": "edc57ba9-c1e2-4267-91d4-5adb5d7260ad",
   "metadata": {},
   "outputs": [
    {
     "data": {
      "text/plain": [
       "1"
      ]
     },
     "execution_count": 3,
     "metadata": {},
     "output_type": "execute_result"
    }
   ],
   "source": [
    "a"
   ]
  },
  {
   "cell_type": "code",
   "execution_count": 7,
   "id": "ffcf139c-9c36-460a-9898-5ae58f674bde",
   "metadata": {},
   "outputs": [
    {
     "data": {
      "text/plain": [
       "int"
      ]
     },
     "execution_count": 7,
     "metadata": {},
     "output_type": "execute_result"
    }
   ],
   "source": [
    "type(a)"
   ]
  },
  {
   "cell_type": "code",
   "execution_count": 5,
   "id": "14d79d08-14e5-44cc-81e1-39699896d1f3",
   "metadata": {},
   "outputs": [],
   "source": [
    "b = 2.525"
   ]
  },
  {
   "cell_type": "code",
   "execution_count": 12,
   "id": "ebb705e8-9aea-4a26-86d7-00851c157839",
   "metadata": {},
   "outputs": [
    {
     "data": {
      "text/plain": [
       "float"
      ]
     },
     "execution_count": 12,
     "metadata": {},
     "output_type": "execute_result"
    }
   ],
   "source": [
    "type(b)"
   ]
  },
  {
   "cell_type": "code",
   "execution_count": 13,
   "id": "77fe8306-f18a-45f0-806c-5048457b19e7",
   "metadata": {},
   "outputs": [],
   "source": [
    "c = \"pritam\""
   ]
  },
  {
   "cell_type": "code",
   "execution_count": 17,
   "id": "900f15ce-6965-460f-9ab4-eec36af09043",
   "metadata": {},
   "outputs": [
    {
     "data": {
      "text/plain": [
       "str"
      ]
     },
     "execution_count": 17,
     "metadata": {},
     "output_type": "execute_result"
    }
   ],
   "source": [
    "type(c)"
   ]
  },
  {
   "cell_type": "code",
   "execution_count": 5,
   "id": "e9d9e459-ac28-4acc-a8fe-1a7ffdc8d468",
   "metadata": {},
   "outputs": [],
   "source": [
    "krp = 525"
   ]
  },
  {
   "cell_type": "code",
   "execution_count": 6,
   "id": "7d1a1c32-a26d-4655-8971-ed4f1607ead7",
   "metadata": {},
   "outputs": [
    {
     "data": {
      "text/plain": [
       "525"
      ]
     },
     "execution_count": 6,
     "metadata": {},
     "output_type": "execute_result"
    }
   ],
   "source": [
    "krp"
   ]
  },
  {
   "cell_type": "code",
   "execution_count": 9,
   "id": "7b2ad2ff-6fa3-48f3-8e83-af38a597eb4c",
   "metadata": {},
   "outputs": [
    {
     "data": {
      "text/plain": [
       "int"
      ]
     },
     "execution_count": 9,
     "metadata": {},
     "output_type": "execute_result"
    }
   ],
   "source": [
    "type(krp)"
   ]
  },
  {
   "cell_type": "code",
   "execution_count": 7,
   "id": "f2e674db-9b03-4133-b3ca-62d7426bd356",
   "metadata": {},
   "outputs": [],
   "source": [
    "d = True"
   ]
  },
  {
   "cell_type": "code",
   "execution_count": 8,
   "id": "391c7204-3153-45a9-9b7e-6a0fb3bc5f4b",
   "metadata": {},
   "outputs": [
    {
     "data": {
      "text/plain": [
       "bool"
      ]
     },
     "execution_count": 8,
     "metadata": {},
     "output_type": "execute_result"
    }
   ],
   "source": [
    "type(d)"
   ]
  },
  {
   "cell_type": "code",
   "execution_count": 11,
   "id": "8d62a81f-f715-4b84-9a07-3a069e51b4a6",
   "metadata": {},
   "outputs": [],
   "source": [
    "e = False"
   ]
  },
  {
   "cell_type": "code",
   "execution_count": 12,
   "id": "1982fd69-df67-4db5-b5ec-cb255bf25d85",
   "metadata": {},
   "outputs": [
    {
     "data": {
      "text/plain": [
       "bool"
      ]
     },
     "execution_count": 12,
     "metadata": {},
     "output_type": "execute_result"
    }
   ],
   "source": [
    "type(e)"
   ]
  },
  {
   "cell_type": "code",
   "execution_count": 13,
   "id": "db6cb4db-6a72-4269-8bc1-e68e3a9d197b",
   "metadata": {},
   "outputs": [
    {
     "data": {
      "text/plain": [
       "1"
      ]
     },
     "execution_count": 13,
     "metadata": {},
     "output_type": "execute_result"
    }
   ],
   "source": [
    "True - False"
   ]
  },
  {
   "cell_type": "code",
   "execution_count": 14,
   "id": "d7af719d-4fc2-4e31-b3a4-abdd9e75875d",
   "metadata": {},
   "outputs": [
    {
     "data": {
      "text/plain": [
       "1"
      ]
     },
     "execution_count": 14,
     "metadata": {},
     "output_type": "execute_result"
    }
   ],
   "source": [
    "True + False"
   ]
  },
  {
   "cell_type": "code",
   "execution_count": 15,
   "id": "e38743d2-2814-49fd-a034-d084d61a1b64",
   "metadata": {},
   "outputs": [
    {
     "ename": "ZeroDivisionError",
     "evalue": "division by zero",
     "output_type": "error",
     "traceback": [
      "\u001b[1;31m---------------------------------------------------------------------------\u001b[0m",
      "\u001b[1;31mZeroDivisionError\u001b[0m                         Traceback (most recent call last)",
      "Cell \u001b[1;32mIn[15], line 1\u001b[0m\n\u001b[1;32m----> 1\u001b[0m \u001b[38;5;28;43;01mTrue\u001b[39;49;00m\u001b[43m \u001b[49m\u001b[38;5;241;43m/\u001b[39;49m\u001b[43m \u001b[49m\u001b[38;5;28;43;01mFalse\u001b[39;49;00m\n",
      "\u001b[1;31mZeroDivisionError\u001b[0m: division by zero"
     ]
    }
   ],
   "source": [
    "True / False"
   ]
  },
  {
   "cell_type": "code",
   "execution_count": 16,
   "id": "236e7328-8a3f-4185-a348-3133729ff357",
   "metadata": {},
   "outputs": [
    {
     "data": {
      "text/plain": [
       "0.0"
      ]
     },
     "execution_count": 16,
     "metadata": {},
     "output_type": "execute_result"
    }
   ],
   "source": [
    "False / True"
   ]
  },
  {
   "cell_type": "code",
   "execution_count": 17,
   "id": "37db229a-7763-4937-a4b9-e2f70e3c6124",
   "metadata": {},
   "outputs": [
    {
     "data": {
      "text/plain": [
       "0"
      ]
     },
     "execution_count": 17,
     "metadata": {},
     "output_type": "execute_result"
    }
   ],
   "source": [
    "True * False"
   ]
  },
  {
   "cell_type": "code",
   "execution_count": 18,
   "id": "39bb4fff-bfbc-4945-b29a-18dac8c7c7c5",
   "metadata": {},
   "outputs": [],
   "source": [
    "f = 5 + 8j"
   ]
  },
  {
   "cell_type": "code",
   "execution_count": 19,
   "id": "b0de8f47-83be-4b68-b08d-e633c4316b83",
   "metadata": {},
   "outputs": [
    {
     "data": {
      "text/plain": [
       "complex"
      ]
     },
     "execution_count": 19,
     "metadata": {},
     "output_type": "execute_result"
    }
   ],
   "source": [
    "type(f)"
   ]
  },
  {
   "cell_type": "code",
   "execution_count": 23,
   "id": "1fbe4cda-2fd1-48b1-addf-3fe47a07b053",
   "metadata": {},
   "outputs": [],
   "source": [
    "f = 5j + 8"
   ]
  },
  {
   "cell_type": "code",
   "execution_count": 24,
   "id": "462aac25-de60-4d84-acde-77472bc1b89c",
   "metadata": {},
   "outputs": [
    {
     "data": {
      "text/plain": [
       "complex"
      ]
     },
     "execution_count": 24,
     "metadata": {},
     "output_type": "execute_result"
    }
   ],
   "source": [
    "type(f)"
   ]
  },
  {
   "cell_type": "code",
   "execution_count": 25,
   "id": "a3d70747-b6d3-4c74-aae7-8d3503f2523b",
   "metadata": {},
   "outputs": [
    {
     "ename": "SyntaxError",
     "evalue": "invalid decimal literal (2701500348.py, line 1)",
     "output_type": "error",
     "traceback": [
      "\u001b[1;36m  Cell \u001b[1;32mIn[25], line 1\u001b[1;36m\u001b[0m\n\u001b[1;33m    f = 5 + 6h\u001b[0m\n\u001b[1;37m            ^\u001b[0m\n\u001b[1;31mSyntaxError\u001b[0m\u001b[1;31m:\u001b[0m invalid decimal literal\n"
     ]
    }
   ],
   "source": [
    "f = 5 + 6h"
   ]
  },
  {
   "cell_type": "code",
   "execution_count": 27,
   "id": "83609589-adf1-4f18-a04e-0609fe2a267b",
   "metadata": {},
   "outputs": [
    {
     "ename": "SyntaxError",
     "evalue": "invalid decimal literal (4237817344.py, line 1)",
     "output_type": "error",
     "traceback": [
      "\u001b[1;36m  Cell \u001b[1;32mIn[27], line 1\u001b[1;36m\u001b[0m\n\u001b[1;33m    f = 5 + 6i\u001b[0m\n\u001b[1;37m            ^\u001b[0m\n\u001b[1;31mSyntaxError\u001b[0m\u001b[1;31m:\u001b[0m invalid decimal literal\n"
     ]
    }
   ],
   "source": [
    "f = 5 + 6i"
   ]
  },
  {
   "cell_type": "code",
   "execution_count": 28,
   "id": "ee9fd2b8-9ec1-4fee-b472-d20222eee441",
   "metadata": {},
   "outputs": [],
   "source": [
    "# cannot accept to variable name"
   ]
  },
  {
   "cell_type": "code",
   "execution_count": 29,
   "id": "6130aa12-ba0e-463c-acb9-4a4f0cccaf5f",
   "metadata": {},
   "outputs": [
    {
     "ename": "SyntaxError",
     "evalue": "cannot assign to literal here. Maybe you meant '==' instead of '='? (3962765337.py, line 1)",
     "output_type": "error",
     "traceback": [
      "\u001b[1;36m  Cell \u001b[1;32mIn[29], line 1\u001b[1;36m\u001b[0m\n\u001b[1;33m    55 = 652\u001b[0m\n\u001b[1;37m    ^\u001b[0m\n\u001b[1;31mSyntaxError\u001b[0m\u001b[1;31m:\u001b[0m cannot assign to literal here. Maybe you meant '==' instead of '='?\n"
     ]
    }
   ],
   "source": [
    "55 = 652"
   ]
  },
  {
   "cell_type": "code",
   "execution_count": 31,
   "id": "fae93519-446e-4e51-8f5b-a91548b4129b",
   "metadata": {},
   "outputs": [
    {
     "ename": "SyntaxError",
     "evalue": "invalid decimal literal (2787340910.py, line 1)",
     "output_type": "error",
     "traceback": [
      "\u001b[1;36m  Cell \u001b[1;32mIn[31], line 1\u001b[1;36m\u001b[0m\n\u001b[1;33m    5fh = 524\u001b[0m\n\u001b[1;37m    ^\u001b[0m\n\u001b[1;31mSyntaxError\u001b[0m\u001b[1;31m:\u001b[0m invalid decimal literal\n"
     ]
    }
   ],
   "source": [
    "5fh = 524"
   ]
  },
  {
   "cell_type": "code",
   "execution_count": 32,
   "id": "1d1e6504-bdc2-4911-bd0a-5c0faecab5a2",
   "metadata": {},
   "outputs": [
    {
     "ename": "SyntaxError",
     "evalue": "invalid syntax (3261695190.py, line 1)",
     "output_type": "error",
     "traceback": [
      "\u001b[1;36m  Cell \u001b[1;32mIn[32], line 1\u001b[1;36m\u001b[0m\n\u001b[1;33m    $54 = 5455\u001b[0m\n\u001b[1;37m    ^\u001b[0m\n\u001b[1;31mSyntaxError\u001b[0m\u001b[1;31m:\u001b[0m invalid syntax\n"
     ]
    }
   ],
   "source": [
    "$54 = 5455"
   ]
  },
  {
   "cell_type": "code",
   "execution_count": 33,
   "id": "6d980341-ab2e-4264-918c-da04f1e05c2a",
   "metadata": {},
   "outputs": [],
   "source": [
    "#accept to variable name"
   ]
  },
  {
   "cell_type": "code",
   "execution_count": 33,
   "id": "a8963471-89c4-45e5-b66f-393854ac4945",
   "metadata": {},
   "outputs": [],
   "source": [
    "_krp = 58"
   ]
  },
  {
   "cell_type": "code",
   "execution_count": 34,
   "id": "e5821fe1-939f-4f5b-b7d9-91051e51dae6",
   "metadata": {},
   "outputs": [
    {
     "data": {
      "text/plain": [
       "int"
      ]
     },
     "execution_count": 34,
     "metadata": {},
     "output_type": "execute_result"
    }
   ],
   "source": [
    "type(_krp)"
   ]
  },
  {
   "cell_type": "code",
   "execution_count": 35,
   "id": "8e1132e9-e987-493c-b7a1-124af591ac98",
   "metadata": {},
   "outputs": [
    {
     "data": {
      "text/plain": [
       "(8+5j)"
      ]
     },
     "execution_count": 35,
     "metadata": {},
     "output_type": "execute_result"
    }
   ],
   "source": [
    "f"
   ]
  },
  {
   "cell_type": "code",
   "execution_count": 36,
   "id": "8f258fdc-9e01-489d-8b55-8b5491213970",
   "metadata": {},
   "outputs": [
    {
     "data": {
      "text/plain": [
       "8.0"
      ]
     },
     "execution_count": 36,
     "metadata": {},
     "output_type": "execute_result"
    }
   ],
   "source": [
    "f.real"
   ]
  },
  {
   "cell_type": "code",
   "execution_count": null,
   "id": "829fc808-9699-42f3-a0ab-933e97b00a89",
   "metadata": {},
   "outputs": [],
   "source": [
    "f.ima"
   ]
  }
 ],
 "metadata": {
  "kernelspec": {
   "display_name": "Python 3 (ipykernel)",
   "language": "python",
   "name": "python3"
  },
  "language_info": {
   "codemirror_mode": {
    "name": "ipython",
    "version": 3
   },
   "file_extension": ".py",
   "mimetype": "text/x-python",
   "name": "python",
   "nbconvert_exporter": "python",
   "pygments_lexer": "ipython3",
   "version": "3.11.4"
  }
 },
 "nbformat": 4,
 "nbformat_minor": 5
}
