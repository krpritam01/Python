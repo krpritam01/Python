{
 "cells": [
  {
   "cell_type": "code",
   "execution_count": 10,
   "id": "5ae0cd9e-9982-4896-9280-ad2b44783781",
   "metadata": {},
   "outputs": [],
   "source": [
    "a = 15\n",
    "if a > 15 :\n",
    "    print(\"yes a is greater than 15 \")"
   ]
  },
  {
   "cell_type": "code",
   "execution_count": 11,
   "id": "293383b9-1620-4c0e-ac94-ed5a4625f619",
   "metadata": {},
   "outputs": [
    {
     "data": {
      "text/plain": [
       "False"
      ]
     },
     "execution_count": 11,
     "metadata": {},
     "output_type": "execute_result"
    }
   ],
   "source": [
    "a > 15"
   ]
  },
  {
   "cell_type": "code",
   "execution_count": 12,
   "id": "13cb9614-4977-475e-bd8b-60151bcc3ffb",
   "metadata": {},
   "outputs": [
    {
     "name": "stdout",
     "output_type": "stream",
     "text": [
      "yes a is greater than 15 \n"
     ]
    }
   ],
   "source": [
    "a = 15\n",
    "if a >= 15 :\n",
    "    print(\"yes a is greater than 15 \")"
   ]
  },
  {
   "cell_type": "code",
   "execution_count": 13,
   "id": "b28052e4-1d7e-4668-a9c4-7bf69cc68fca",
   "metadata": {},
   "outputs": [
    {
     "data": {
      "text/plain": [
       "True"
      ]
     },
     "execution_count": 13,
     "metadata": {},
     "output_type": "execute_result"
    }
   ],
   "source": [
    "a >= 15"
   ]
  },
  {
   "cell_type": "code",
   "execution_count": 17,
   "id": "535e5944-509c-4cf7-a1bb-3533705485b9",
   "metadata": {},
   "outputs": [
    {
     "name": "stdout",
     "output_type": "stream",
     "text": [
      "yes b is leser than 45 \n"
     ]
    }
   ],
   "source": [
    "b = 25\n",
    "if b > 35 :\n",
    "    print(\"yes b is greater than 35 \")\n",
    "elif b < 45 :\n",
    "    print(\"yes b is leser than 45 \")"
   ]
  },
  {
   "cell_type": "code",
   "execution_count": 18,
   "id": "62933ed0-b9bd-4cc3-9171-81368700646c",
   "metadata": {},
   "outputs": [
    {
     "data": {
      "text/plain": [
       "False"
      ]
     },
     "execution_count": 18,
     "metadata": {},
     "output_type": "execute_result"
    }
   ],
   "source": [
    "b > 35"
   ]
  },
  {
   "cell_type": "code",
   "execution_count": 19,
   "id": "b7dd0fcc-44f5-4374-9a79-c93b9c5ec75f",
   "metadata": {},
   "outputs": [
    {
     "data": {
      "text/plain": [
       "True"
      ]
     },
     "execution_count": 19,
     "metadata": {},
     "output_type": "execute_result"
    }
   ],
   "source": [
    "b < 45"
   ]
  },
  {
   "cell_type": "code",
   "execution_count": 22,
   "id": "10901b8b-ae55-4783-9afe-0145dae74bc6",
   "metadata": {},
   "outputs": [
    {
     "name": "stdout",
     "output_type": "stream",
     "text": [
      "this is my defalut\n"
     ]
    }
   ],
   "source": [
    "b = 25\n",
    "if b > 35 :\n",
    "    print(\"yes b is greater than 35 \")\n",
    "elif b > 45 :\n",
    "    print(\"yes b is leser than 45 \")\n",
    "else :\n",
    "    print(\"this is my defalut\")"
   ]
  },
  {
   "cell_type": "code",
   "execution_count": 27,
   "id": "665be694-263b-4041-b524-fd10485f4037",
   "metadata": {},
   "outputs": [
    {
     "name": "stdout",
     "output_type": "stream",
     "text": [
      "yes b is leser than 100 \n"
     ]
    }
   ],
   "source": [
    "b = 25\n",
    "if b > 35 :\n",
    "    print(\"yes b is greater than 35 \")\n",
    "elif b > 45 :\n",
    "    print(\"yes b is leser than 45 \")\n",
    "elif b < 100 :\n",
    "    print(\"yes b is leser than 100 \")\n",
    "else :\n",
    "    print(\"this is my defalut\")"
   ]
  },
  {
   "cell_type": "code",
   "execution_count": 31,
   "id": "f1912120-3611-435f-879d-32adde695493",
   "metadata": {},
   "outputs": [
    {
     "name": "stdin",
     "output_type": "stream",
     "text": [
      " 255\n"
     ]
    },
    {
     "data": {
      "text/plain": [
       "'255'"
      ]
     },
     "execution_count": 31,
     "metadata": {},
     "output_type": "execute_result"
    }
   ],
   "source": [
    "input()"
   ]
  },
  {
   "cell_type": "code",
   "execution_count": 30,
   "id": "42134751-e1b8-49ad-862b-69388cfd3bc1",
   "metadata": {},
   "outputs": [],
   "source": [
    "#types of casting"
   ]
  },
  {
   "cell_type": "code",
   "execution_count": 32,
   "id": "5ccb326a-b6c7-409e-be01-87b7448a2a00",
   "metadata": {},
   "outputs": [
    {
     "name": "stdin",
     "output_type": "stream",
     "text": [
      " 255\n"
     ]
    },
    {
     "data": {
      "text/plain": [
       "255"
      ]
     },
     "execution_count": 32,
     "metadata": {},
     "output_type": "execute_result"
    }
   ],
   "source": [
    "int(input())"
   ]
  },
  {
   "cell_type": "code",
   "execution_count": 33,
   "id": "f3c0f746-9ac7-4e09-ab55-37c29d292b46",
   "metadata": {},
   "outputs": [
    {
     "data": {
      "text/plain": [
       "255"
      ]
     },
     "execution_count": 33,
     "metadata": {},
     "output_type": "execute_result"
    }
   ],
   "source": [
    "int('255')"
   ]
  },
  {
   "cell_type": "code",
   "execution_count": 37,
   "id": "63daec0e-9bc9-48a1-905c-bbf9625e8b0e",
   "metadata": {},
   "outputs": [
    {
     "name": "stdin",
     "output_type": "stream",
     "text": [
      " 85\n"
     ]
    }
   ],
   "source": [
    "c = int(input())"
   ]
  },
  {
   "cell_type": "code",
   "execution_count": 38,
   "id": "12fd787f-0f95-4b67-ae49-3d768e6b7f45",
   "metadata": {},
   "outputs": [
    {
     "data": {
      "text/plain": [
       "int"
      ]
     },
     "execution_count": 38,
     "metadata": {},
     "output_type": "execute_result"
    }
   ],
   "source": [
    "type(b)"
   ]
  },
  {
   "cell_type": "code",
   "execution_count": 41,
   "id": "c0eafd6d-f900-4a6e-b160-db1a00a61b27",
   "metadata": {},
   "outputs": [],
   "source": [
    "# User Input"
   ]
  },
  {
   "cell_type": "code",
   "execution_count": 44,
   "id": "68a844af-8b0e-45ab-9aa9-72664e80fb02",
   "metadata": {},
   "outputs": [
    {
     "name": "stdin",
     "output_type": "stream",
     "text": [
      " 20\n"
     ]
    },
    {
     "name": "stdout",
     "output_type": "stream",
     "text": [
      "this is my defalut\n"
     ]
    }
   ],
   "source": [
    "b = int(input())\n",
    "if b > 35 :\n",
    "    print(\"yes b is greater than 35 \")\n",
    "elif b > 45 :\n",
    "    print(\"yes b is leser than 45 \")\n",
    "elif b > 100 :\n",
    "    print(\"yes b is leser than 100 \")\n",
    "else :\n",
    "    print(\"this is my defalut\")"
   ]
  },
  {
   "cell_type": "code",
   "execution_count": 50,
   "id": "bed54f42-6f58-46a5-947a-8f22ba65b073",
   "metadata": {},
   "outputs": [],
   "source": [
    "# while loop"
   ]
  },
  {
   "cell_type": "code",
   "execution_count": 51,
   "id": "982e1e31-3a34-4c62-b3d1-ff5d2b9fe098",
   "metadata": {},
   "outputs": [
    {
     "name": "stdout",
     "output_type": "stream",
     "text": [
      "1\n",
      "2\n",
      "3\n",
      "4\n"
     ]
    }
   ],
   "source": [
    "n = 5\n",
    "i = 1\n",
    "while i < n :\n",
    "    print(i)\n",
    "    i = i+1"
   ]
  },
  {
   "cell_type": "code",
   "execution_count": 52,
   "id": "e56885aa-13d7-46ab-8ef5-826013423899",
   "metadata": {},
   "outputs": [
    {
     "name": "stdout",
     "output_type": "stream",
     "text": [
      "1\n",
      "2\n",
      "3\n",
      "4\n",
      "End\n"
     ]
    }
   ],
   "source": [
    "n = 5\n",
    "i = 1\n",
    "while i < n :\n",
    "    print(i)\n",
    "    i = i+1\n",
    "else :\n",
    "    print(\"End\")"
   ]
  },
  {
   "cell_type": "code",
   "execution_count": 53,
   "id": "2f8c797d-c8db-4b38-9aa4-aacda855f212",
   "metadata": {},
   "outputs": [
    {
     "name": "stdout",
     "output_type": "stream",
     "text": [
      "1\n",
      "2\n"
     ]
    }
   ],
   "source": [
    "n = 5\n",
    "i = 1\n",
    "while i < n :\n",
    "    print(i)\n",
    "    i = i+1\n",
    "    if i == 3 :\n",
    "        break\n",
    "else :\n",
    "    print(\"End\")"
   ]
  },
  {
   "cell_type": "code",
   "execution_count": 55,
   "id": "d42ba5e7-f8d4-4f52-920a-e1f829833cfd",
   "metadata": {},
   "outputs": [],
   "source": [
    "# for loop"
   ]
  },
  {
   "cell_type": "code",
   "execution_count": 56,
   "id": "f07df5d2-df6b-4c72-bf8b-09a4e9b1291d",
   "metadata": {},
   "outputs": [
    {
     "name": "stdout",
     "output_type": "stream",
     "text": [
      "P\n",
      "r\n",
      "i\n",
      "t\n",
      "a\n",
      "m\n"
     ]
    }
   ],
   "source": [
    "k = \"Pritam\"\n",
    "for i in k :\n",
    "    print(i)"
   ]
  },
  {
   "cell_type": "code",
   "execution_count": 67,
   "id": "a420b260-6283-4239-8312-2100af355221",
   "metadata": {},
   "outputs": [],
   "source": [
    "l = [1,2,3,4,5,\"krp\",\"pritam\" , 25.35, True, (5+8j)]"
   ]
  },
  {
   "cell_type": "code",
   "execution_count": 60,
   "id": "79354a62-33d6-4e7d-8618-81ba1fe5307d",
   "metadata": {},
   "outputs": [
    {
     "name": "stdout",
     "output_type": "stream",
     "text": [
      "<class 'int'>\n",
      "<class 'int'>\n",
      "<class 'int'>\n",
      "<class 'int'>\n",
      "<class 'int'>\n",
      "<class 'str'>\n",
      "<class 'str'>\n",
      "<class 'float'>\n",
      "<class 'bool'>\n",
      "<class 'complex'>\n"
     ]
    }
   ],
   "source": [
    "for i in l :\n",
    "    print(type(i))"
   ]
  },
  {
   "cell_type": "code",
   "execution_count": 61,
   "id": "92f87ae4-eaf7-428f-b9e1-1c67b7fb4aee",
   "metadata": {},
   "outputs": [
    {
     "name": "stdout",
     "output_type": "stream",
     "text": [
      "<class 'int'>\n",
      "<class 'int'>\n",
      "<class 'int'>\n",
      "<class 'int'>\n",
      "<class 'int'>\n",
      "<class 'str'>\n",
      "<class 'str'>\n",
      "<class 'float'>\n",
      "<class 'bool'>\n",
      "<class 'complex'>\n",
      "This will be executed once for loop will complete itself succefully\n"
     ]
    }
   ],
   "source": [
    "for i in l :\n",
    "    print(type(i))\n",
    "else :\n",
    "    print(\"This will be executed once for loop will complete itself succefully\")"
   ]
  },
  {
   "cell_type": "code",
   "execution_count": 75,
   "id": "7d82be92-f23a-40ea-ac25-0dbd81aa78ba",
   "metadata": {},
   "outputs": [
    {
     "name": "stdout",
     "output_type": "stream",
     "text": [
      "<class 'int'>\n",
      "<class 'int'>\n",
      "<class 'int'>\n",
      "<class 'int'>\n",
      "<class 'int'>\n"
     ]
    }
   ],
   "source": [
    "for i in l :\n",
    "    print(type(i))\n",
    "    if i == 5 :\n",
    "        break\n",
    "else :\n",
    "    print(\"This will be executed once for loop will complete itself succefully\")"
   ]
  },
  {
   "cell_type": "code",
   "execution_count": 76,
   "id": "2d0f6c52-52c7-4cd1-affc-120d530fd5a2",
   "metadata": {},
   "outputs": [
    {
     "name": "stdout",
     "output_type": "stream",
     "text": [
      "<class 'int'>\n",
      "<class 'int'>\n",
      "<class 'int'>\n",
      "<class 'int'>\n",
      "<class 'int'>\n",
      "<class 'str'>\n",
      "<class 'str'>\n",
      "<class 'float'>\n",
      "<class 'bool'>\n",
      "<class 'complex'>\n",
      "This will be executed once for loop will complete itself succefully\n"
     ]
    }
   ],
   "source": [
    "for i in l :\n",
    "    print(type(i))\n",
    "    if i == 5 :\n",
    "        continue\n",
    "else :\n",
    "    print(\"This will be executed once for loop will complete itself succefully\")"
   ]
  },
  {
   "cell_type": "code",
   "execution_count": 77,
   "id": "e6a303a2-7a46-41ac-93e9-c9e62f5bbfc3",
   "metadata": {},
   "outputs": [
    {
     "name": "stdout",
     "output_type": "stream",
     "text": [
      "<class 'int'>\n",
      "1\n",
      "<class 'int'>\n",
      "2\n",
      "<class 'int'>\n",
      "3\n",
      "<class 'int'>\n",
      "4\n",
      "<class 'int'>\n",
      "<class 'str'>\n",
      "krp\n",
      "<class 'str'>\n",
      "pritam\n",
      "<class 'float'>\n",
      "25.35\n",
      "<class 'bool'>\n",
      "True\n",
      "<class 'complex'>\n",
      "(5+8j)\n",
      "This will be executed once for loop will complete itself succefully\n"
     ]
    }
   ],
   "source": [
    "for i in l :\n",
    "    print(type(i))\n",
    "    if i == 5 :\n",
    "        continue\n",
    "    print(i)\n",
    "else :\n",
    "    print(\"This will be executed once for loop will complete itself succefully\")"
   ]
  },
  {
   "cell_type": "code",
   "execution_count": 78,
   "id": "a483272e-bc96-4c7d-bd90-8af059b7cbef",
   "metadata": {},
   "outputs": [],
   "source": [
    "# range function"
   ]
  },
  {
   "cell_type": "code",
   "execution_count": 80,
   "id": "248218d9-088d-41bf-bc67-93b893d9d186",
   "metadata": {},
   "outputs": [
    {
     "data": {
      "text/plain": [
       "range(0, 15)"
      ]
     },
     "execution_count": 80,
     "metadata": {},
     "output_type": "execute_result"
    }
   ],
   "source": [
    "range(15)"
   ]
  },
  {
   "cell_type": "code",
   "execution_count": 81,
   "id": "d347d555-e439-42d6-86ec-fba6d7606083",
   "metadata": {},
   "outputs": [
    {
     "data": {
      "text/plain": [
       "[0, 1, 2, 3, 4, 5, 6, 7, 8, 9, 10, 11, 12, 13, 14]"
      ]
     },
     "execution_count": 81,
     "metadata": {},
     "output_type": "execute_result"
    }
   ],
   "source": [
    "list(range(15))"
   ]
  },
  {
   "cell_type": "code",
   "execution_count": null,
   "id": "09563ef9-6933-45c8-8247-49574107c816",
   "metadata": {},
   "outputs": [],
   "source": []
  }
 ],
 "metadata": {
  "kernelspec": {
   "display_name": "Python 3 (ipykernel)",
   "language": "python",
   "name": "python3"
  },
  "language_info": {
   "codemirror_mode": {
    "name": "ipython",
    "version": 3
   },
   "file_extension": ".py",
   "mimetype": "text/x-python",
   "name": "python",
   "nbconvert_exporter": "python",
   "pygments_lexer": "ipython3",
   "version": "3.11.4"
  }
 },
 "nbformat": 4,
 "nbformat_minor": 5
}
