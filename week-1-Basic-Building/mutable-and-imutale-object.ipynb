{
 "cells": [
  {
   "cell_type": "code",
   "execution_count": 38,
   "id": "5cd19d1f-0450-4018-a4c4-df0cf2d9b1eb",
   "metadata": {},
   "outputs": [],
   "source": [
    "a = \"krp\""
   ]
  },
  {
   "cell_type": "code",
   "execution_count": 42,
   "id": "996c9f63-ddb7-43f9-b1ef-f677d4e32a64",
   "metadata": {},
   "outputs": [],
   "source": [
    "b = 'Pritam'"
   ]
  },
  {
   "cell_type": "code",
   "execution_count": 40,
   "id": "6bf2880e-b781-47e2-a3b7-bc549262bdeb",
   "metadata": {},
   "outputs": [
    {
     "data": {
      "text/plain": [
       "str"
      ]
     },
     "execution_count": 40,
     "metadata": {},
     "output_type": "execute_result"
    }
   ],
   "source": [
    "type(a)"
   ]
  },
  {
   "cell_type": "code",
   "execution_count": 43,
   "id": "2dcb8620-5305-479a-a74b-e122ad7d4d6a",
   "metadata": {},
   "outputs": [
    {
     "data": {
      "text/plain": [
       "str"
      ]
     },
     "execution_count": 43,
     "metadata": {},
     "output_type": "execute_result"
    }
   ],
   "source": [
    "type(b)"
   ]
  },
  {
   "cell_type": "code",
   "execution_count": 45,
   "id": "80a7fc73-acb7-424a-a46d-65626853b9e9",
   "metadata": {},
   "outputs": [],
   "source": [
    "l = [2,3,4,5,\"krp\" , 3+8j , True , 65.254]"
   ]
  },
  {
   "cell_type": "code",
   "execution_count": 46,
   "id": "6f8d917c-c1aa-4496-8e10-f8f5a266a1ae",
   "metadata": {},
   "outputs": [
    {
     "data": {
      "text/plain": [
       "list"
      ]
     },
     "execution_count": 46,
     "metadata": {},
     "output_type": "execute_result"
    }
   ],
   "source": [
    "type(l)"
   ]
  },
  {
   "cell_type": "code",
   "execution_count": 47,
   "id": "27db337a-87fc-48f5-95fe-4bd03f4d981e",
   "metadata": {},
   "outputs": [
    {
     "data": {
      "text/plain": [
       "'Pritam'"
      ]
     },
     "execution_count": 47,
     "metadata": {},
     "output_type": "execute_result"
    }
   ],
   "source": [
    "b"
   ]
  },
  {
   "cell_type": "code",
   "execution_count": 49,
   "id": "d85b4129-40db-4fb1-877c-dfa367ea54b7",
   "metadata": {},
   "outputs": [
    {
     "data": {
      "text/plain": [
       "'P'"
      ]
     },
     "execution_count": 49,
     "metadata": {},
     "output_type": "execute_result"
    }
   ],
   "source": [
    "b[0]"
   ]
  },
  {
   "cell_type": "code",
   "execution_count": 50,
   "id": "e33d654f-ba55-483d-87ec-3abc99554674",
   "metadata": {},
   "outputs": [
    {
     "data": {
      "text/plain": [
       "'r'"
      ]
     },
     "execution_count": 50,
     "metadata": {},
     "output_type": "execute_result"
    }
   ],
   "source": [
    "b[1]"
   ]
  },
  {
   "cell_type": "code",
   "execution_count": 51,
   "id": "42084778-02f8-4581-8286-0f50273368b4",
   "metadata": {},
   "outputs": [
    {
     "data": {
      "text/plain": [
       "'m'"
      ]
     },
     "execution_count": 51,
     "metadata": {},
     "output_type": "execute_result"
    }
   ],
   "source": [
    "b[5]"
   ]
  },
  {
   "cell_type": "code",
   "execution_count": 52,
   "id": "ff8a3581-8cec-4c12-b87f-29cf231ad748",
   "metadata": {},
   "outputs": [
    {
     "data": {
      "text/plain": [
       "[2, 3, 4, 5, 'krp', (3+8j), True, 65.254]"
      ]
     },
     "execution_count": 52,
     "metadata": {},
     "output_type": "execute_result"
    }
   ],
   "source": [
    "l"
   ]
  },
  {
   "cell_type": "code",
   "execution_count": 53,
   "id": "ed2dd611-708d-4aa7-ab8c-77bc61124878",
   "metadata": {},
   "outputs": [],
   "source": [
    "#Forward Direction"
   ]
  },
  {
   "cell_type": "code",
   "execution_count": 54,
   "id": "ac910b5a-2722-4c79-b449-e0214029f431",
   "metadata": {},
   "outputs": [
    {
     "data": {
      "text/plain": [
       "(3+8j)"
      ]
     },
     "execution_count": 54,
     "metadata": {},
     "output_type": "execute_result"
    }
   ],
   "source": [
    "l[5]"
   ]
  },
  {
   "cell_type": "code",
   "execution_count": 55,
   "id": "5f81abf8-1522-4396-a209-eee6c8f7e949",
   "metadata": {},
   "outputs": [],
   "source": [
    "#Backward Direction"
   ]
  },
  {
   "cell_type": "code",
   "execution_count": 57,
   "id": "6ef0c437-6773-4900-8540-c0c2a77b1bb3",
   "metadata": {},
   "outputs": [
    {
     "data": {
      "text/plain": [
       "'krp'"
      ]
     },
     "execution_count": 57,
     "metadata": {},
     "output_type": "execute_result"
    }
   ],
   "source": [
    "l[-4]"
   ]
  },
  {
   "cell_type": "code",
   "execution_count": 58,
   "id": "1b1047ae-b07e-4b17-822e-4931694d10be",
   "metadata": {},
   "outputs": [
    {
     "data": {
      "text/plain": [
       "[2, 3, 4, 5, 'krp', (3+8j), True, 65.254]"
      ]
     },
     "execution_count": 58,
     "metadata": {},
     "output_type": "execute_result"
    }
   ],
   "source": [
    "l"
   ]
  },
  {
   "cell_type": "code",
   "execution_count": 59,
   "id": "a06d8cf9-e535-47a9-a5fd-6e6b756472f5",
   "metadata": {},
   "outputs": [
    {
     "data": {
      "text/plain": [
       "4"
      ]
     },
     "execution_count": 59,
     "metadata": {},
     "output_type": "execute_result"
    }
   ],
   "source": [
    "l[2]"
   ]
  },
  {
   "cell_type": "code",
   "execution_count": 60,
   "id": "aa0b6d12-5c7d-4337-ad4d-371d5eb57c57",
   "metadata": {},
   "outputs": [],
   "source": [
    "l[2] = 200"
   ]
  },
  {
   "cell_type": "code",
   "execution_count": 61,
   "id": "8ef3ca52-5119-4626-9eae-1c6021a6de00",
   "metadata": {},
   "outputs": [
    {
     "data": {
      "text/plain": [
       "[2, 3, 200, 5, 'krp', (3+8j), True, 65.254]"
      ]
     },
     "execution_count": 61,
     "metadata": {},
     "output_type": "execute_result"
    }
   ],
   "source": [
    "l"
   ]
  },
  {
   "cell_type": "code",
   "execution_count": 64,
   "id": "c86e89b1-2f75-4804-b136-b4b00e493575",
   "metadata": {},
   "outputs": [],
   "source": [
    "#mutable object"
   ]
  },
  {
   "cell_type": "code",
   "execution_count": 62,
   "id": "e643da7c-a41c-46aa-a2fd-3bd97c906b43",
   "metadata": {},
   "outputs": [],
   "source": [
    "l[4] = 'Pritam'"
   ]
  },
  {
   "cell_type": "code",
   "execution_count": 65,
   "id": "6f286e90-6fa2-40f6-82dc-9f5360472ab0",
   "metadata": {},
   "outputs": [
    {
     "data": {
      "text/plain": [
       "[2, 3, 200, 5, 'Pritam', (3+8j), True, 65.254]"
      ]
     },
     "execution_count": 65,
     "metadata": {},
     "output_type": "execute_result"
    }
   ],
   "source": [
    "l"
   ]
  },
  {
   "cell_type": "code",
   "execution_count": 66,
   "id": "7dadb8b2-55d0-4415-a244-106799039a18",
   "metadata": {},
   "outputs": [
    {
     "data": {
      "text/plain": [
       "'krp'"
      ]
     },
     "execution_count": 66,
     "metadata": {},
     "output_type": "execute_result"
    }
   ],
   "source": [
    "a"
   ]
  },
  {
   "cell_type": "code",
   "execution_count": 68,
   "id": "098d5af8-50c2-4289-9187-9eb399b2c395",
   "metadata": {},
   "outputs": [],
   "source": [
    "# imutable object"
   ]
  },
  {
   "cell_type": "code",
   "execution_count": 67,
   "id": "1f674fea-2679-459c-993a-bbfda1fd6d8e",
   "metadata": {},
   "outputs": [
    {
     "ename": "TypeError",
     "evalue": "'str' object does not support item assignment",
     "output_type": "error",
     "traceback": [
      "\u001b[1;31m---------------------------------------------------------------------------\u001b[0m",
      "\u001b[1;31mTypeError\u001b[0m                                 Traceback (most recent call last)",
      "Cell \u001b[1;32mIn[67], line 1\u001b[0m\n\u001b[1;32m----> 1\u001b[0m \u001b[43ma\u001b[49m\u001b[43m[\u001b[49m\u001b[38;5;241;43m1\u001b[39;49m\u001b[43m]\u001b[49m \u001b[38;5;241m=\u001b[39m \u001b[38;5;124m'\u001b[39m\u001b[38;5;124mp\u001b[39m\u001b[38;5;124m'\u001b[39m\n",
      "\u001b[1;31mTypeError\u001b[0m: 'str' object does not support item assignment"
     ]
    }
   ],
   "source": [
    "a[1] = 'p'"
   ]
  },
  {
   "cell_type": "code",
   "execution_count": null,
   "id": "e71d91d7-12cd-4f10-ad3c-4910035118d9",
   "metadata": {},
   "outputs": [],
   "source": []
  }
 ],
 "metadata": {
  "kernelspec": {
   "display_name": "Python 3 (ipykernel)",
   "language": "python",
   "name": "python3"
  },
  "language_info": {
   "codemirror_mode": {
    "name": "ipython",
    "version": 3
   },
   "file_extension": ".py",
   "mimetype": "text/x-python",
   "name": "python",
   "nbconvert_exporter": "python",
   "pygments_lexer": "ipython3",
   "version": "3.11.4"
  }
 },
 "nbformat": 4,
 "nbformat_minor": 5
}
